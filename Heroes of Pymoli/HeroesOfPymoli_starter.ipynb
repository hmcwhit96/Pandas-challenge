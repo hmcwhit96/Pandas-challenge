{
 "cells": [
  {
   "cell_type": "markdown",
   "source": [
    "### Dependencies and Setup"
   ],
   "metadata": {}
  },
  {
   "cell_type": "code",
   "execution_count": 16,
   "source": [
    "# Dependencies and Setup\r\n",
    "import pandas as pd\r\n",
    "from IPython.display import display\r\n",
    "\r\n",
    "\r\n",
    "# File to Load (Remember to Change These)\r\n",
    "file_to_load = r\"C:\\Users\\hmwhi\\OneDrive\\Desktop\\GitHub\\Pandas-challenge\\Heroes of Pymoli\\purchase_data.csv\"\r\n",
    "\r\n",
    "# Read Purchasing File and store into Pandas data frame\r\n",
    "purchase_data = pd.read_csv(file_to_load)\r\n",
    "\r\n",
    "purchase_data.head()"
   ],
   "outputs": [
    {
     "output_type": "execute_result",
     "data": {
      "text/plain": [
       "   Purchase ID             SN  Age Gender  Item ID  \\\n",
       "0            0        Lisim78   20   Male      108   \n",
       "1            1    Lisovynya38   40   Male      143   \n",
       "2            2     Ithergue48   24   Male       92   \n",
       "3            3  Chamassasya86   24   Male      100   \n",
       "4            4      Iskosia90   23   Male      131   \n",
       "\n",
       "                                   Item Name  Price  \n",
       "0  Extraction, Quickblade Of Trembling Hands   3.53  \n",
       "1                          Frenzied Scimitar   1.56  \n",
       "2                               Final Critic   4.88  \n",
       "3                                Blindscythe   3.27  \n",
       "4                                       Fury   1.44  "
      ],
      "text/html": [
       "<div>\n",
       "<style scoped>\n",
       "    .dataframe tbody tr th:only-of-type {\n",
       "        vertical-align: middle;\n",
       "    }\n",
       "\n",
       "    .dataframe tbody tr th {\n",
       "        vertical-align: top;\n",
       "    }\n",
       "\n",
       "    .dataframe thead th {\n",
       "        text-align: right;\n",
       "    }\n",
       "</style>\n",
       "<table border=\"1\" class=\"dataframe\">\n",
       "  <thead>\n",
       "    <tr style=\"text-align: right;\">\n",
       "      <th></th>\n",
       "      <th>Purchase ID</th>\n",
       "      <th>SN</th>\n",
       "      <th>Age</th>\n",
       "      <th>Gender</th>\n",
       "      <th>Item ID</th>\n",
       "      <th>Item Name</th>\n",
       "      <th>Price</th>\n",
       "    </tr>\n",
       "  </thead>\n",
       "  <tbody>\n",
       "    <tr>\n",
       "      <th>0</th>\n",
       "      <td>0</td>\n",
       "      <td>Lisim78</td>\n",
       "      <td>20</td>\n",
       "      <td>Male</td>\n",
       "      <td>108</td>\n",
       "      <td>Extraction, Quickblade Of Trembling Hands</td>\n",
       "      <td>3.53</td>\n",
       "    </tr>\n",
       "    <tr>\n",
       "      <th>1</th>\n",
       "      <td>1</td>\n",
       "      <td>Lisovynya38</td>\n",
       "      <td>40</td>\n",
       "      <td>Male</td>\n",
       "      <td>143</td>\n",
       "      <td>Frenzied Scimitar</td>\n",
       "      <td>1.56</td>\n",
       "    </tr>\n",
       "    <tr>\n",
       "      <th>2</th>\n",
       "      <td>2</td>\n",
       "      <td>Ithergue48</td>\n",
       "      <td>24</td>\n",
       "      <td>Male</td>\n",
       "      <td>92</td>\n",
       "      <td>Final Critic</td>\n",
       "      <td>4.88</td>\n",
       "    </tr>\n",
       "    <tr>\n",
       "      <th>3</th>\n",
       "      <td>3</td>\n",
       "      <td>Chamassasya86</td>\n",
       "      <td>24</td>\n",
       "      <td>Male</td>\n",
       "      <td>100</td>\n",
       "      <td>Blindscythe</td>\n",
       "      <td>3.27</td>\n",
       "    </tr>\n",
       "    <tr>\n",
       "      <th>4</th>\n",
       "      <td>4</td>\n",
       "      <td>Iskosia90</td>\n",
       "      <td>23</td>\n",
       "      <td>Male</td>\n",
       "      <td>131</td>\n",
       "      <td>Fury</td>\n",
       "      <td>1.44</td>\n",
       "    </tr>\n",
       "  </tbody>\n",
       "</table>\n",
       "</div>"
      ]
     },
     "metadata": {},
     "execution_count": 16
    }
   ],
   "metadata": {}
  },
  {
   "cell_type": "markdown",
   "source": [
    "## Player Count"
   ],
   "metadata": {}
  },
  {
   "cell_type": "markdown",
   "source": [
    "* Display the total number of players\n"
   ],
   "metadata": {}
  },
  {
   "cell_type": "code",
   "execution_count": 17,
   "source": [
    "total_players = purchase_data[\"SN\"].nunique()\r\n",
    "\r\n",
    "tp_df = pd.DataFrame({\r\n",
    "    \"Total Players\" : [total_players]\r\n",
    "})\r\n",
    "\r\n",
    "# print(f\"Total # of Players: {total_players}\")\r\n",
    "\r\n",
    "tp_df\r\n"
   ],
   "outputs": [
    {
     "output_type": "execute_result",
     "data": {
      "text/plain": [
       "   Total Players\n",
       "0            576"
      ],
      "text/html": [
       "<div>\n",
       "<style scoped>\n",
       "    .dataframe tbody tr th:only-of-type {\n",
       "        vertical-align: middle;\n",
       "    }\n",
       "\n",
       "    .dataframe tbody tr th {\n",
       "        vertical-align: top;\n",
       "    }\n",
       "\n",
       "    .dataframe thead th {\n",
       "        text-align: right;\n",
       "    }\n",
       "</style>\n",
       "<table border=\"1\" class=\"dataframe\">\n",
       "  <thead>\n",
       "    <tr style=\"text-align: right;\">\n",
       "      <th></th>\n",
       "      <th>Total Players</th>\n",
       "    </tr>\n",
       "  </thead>\n",
       "  <tbody>\n",
       "    <tr>\n",
       "      <th>0</th>\n",
       "      <td>576</td>\n",
       "    </tr>\n",
       "  </tbody>\n",
       "</table>\n",
       "</div>"
      ]
     },
     "metadata": {},
     "execution_count": 17
    }
   ],
   "metadata": {}
  },
  {
   "cell_type": "markdown",
   "source": [
    "## Purchasing Analysis (Total)"
   ],
   "metadata": {}
  },
  {
   "cell_type": "markdown",
   "source": [
    "* Run basic calculations to obtain number of unique items, average price, etc.\r\n",
    "\r\n",
    "\r\n",
    "* Create a summary data frame to hold the results\r\n",
    "\r\n",
    "\r\n",
    "* Optional: give the displayed data cleaner formatting\r\n",
    "\r\n",
    "\r\n",
    "* Display the summary data frame\r\n"
   ],
   "metadata": {}
  },
  {
   "cell_type": "code",
   "execution_count": 18,
   "source": [
    "# create df for items\r\n",
    "items_df = purchase_data[[\"Item ID\",\"Item Name\",\"Price\"]]\r\n",
    "items_df = items_df.drop_duplicates(subset=[\"Item ID\"])\r\n",
    "\r\n"
   ],
   "outputs": [],
   "metadata": {}
  },
  {
   "cell_type": "code",
   "execution_count": 19,
   "source": [
    "# set variables\r\n",
    "\r\n",
    "total_items = items_df[\"Item ID\"].nunique()\r\n",
    "sum_of_price = items_df[\"Price\"].sum()\r\n",
    "\r\n",
    "\r\n",
    "avg_item_price = (sum_of_price / total_items).__round__(2)\r\n",
    "avg_item_price = (f\"$ {avg_item_price}\")\r\n",
    "total_count_purchases = purchase_data[\"Purchase ID\"].count()\r\n",
    "\r\n",
    "total_revenue = purchase_data[\"Price\"].sum()\r\n",
    "total_revenue = (f\"$ {total_revenue}\")\r\n",
    "# summary table \r\n",
    "\r\n",
    "PA_summary = pd.DataFrame(\r\n",
    "    {\"Unique Items\" : [total_items],\r\n",
    "    \"Average Item Price\" : [avg_item_price],\r\n",
    "    \"Number of Purchases\" : [total_count_purchases],\r\n",
    "    \"Total Revenue\" : [total_revenue]\r\n",
    "    })\r\n",
    "\r\n",
    "PA_summary"
   ],
   "outputs": [
    {
     "output_type": "execute_result",
     "data": {
      "text/plain": [
       "   Unique Items Average Item Price  Number of Purchases Total Revenue\n",
       "0           179             $ 3.04                  780     $ 2379.77"
      ],
      "text/html": [
       "<div>\n",
       "<style scoped>\n",
       "    .dataframe tbody tr th:only-of-type {\n",
       "        vertical-align: middle;\n",
       "    }\n",
       "\n",
       "    .dataframe tbody tr th {\n",
       "        vertical-align: top;\n",
       "    }\n",
       "\n",
       "    .dataframe thead th {\n",
       "        text-align: right;\n",
       "    }\n",
       "</style>\n",
       "<table border=\"1\" class=\"dataframe\">\n",
       "  <thead>\n",
       "    <tr style=\"text-align: right;\">\n",
       "      <th></th>\n",
       "      <th>Unique Items</th>\n",
       "      <th>Average Item Price</th>\n",
       "      <th>Number of Purchases</th>\n",
       "      <th>Total Revenue</th>\n",
       "    </tr>\n",
       "  </thead>\n",
       "  <tbody>\n",
       "    <tr>\n",
       "      <th>0</th>\n",
       "      <td>179</td>\n",
       "      <td>$ 3.04</td>\n",
       "      <td>780</td>\n",
       "      <td>$ 2379.77</td>\n",
       "    </tr>\n",
       "  </tbody>\n",
       "</table>\n",
       "</div>"
      ]
     },
     "metadata": {},
     "execution_count": 19
    }
   ],
   "metadata": {
    "scrolled": true
   }
  },
  {
   "cell_type": "markdown",
   "source": [
    "## Gender Demographics"
   ],
   "metadata": {}
  },
  {
   "cell_type": "markdown",
   "source": [
    "* Percentage and Count of Male Players\n",
    "\n",
    "\n",
    "* Percentage and Count of Female Players\n",
    "\n",
    "\n",
    "* Percentage and Count of Other / Non-Disclosed\n",
    "\n",
    "\n"
   ],
   "metadata": {}
  },
  {
   "cell_type": "code",
   "execution_count": 20,
   "source": [
    "# count the number of each gender\r\n",
    "genderdf = purchase_data[[\"SN\",\"Gender\"]]\r\n",
    "genderdf = genderdf.drop_duplicates(subset=['SN'])\r\n",
    "\r\n",
    "male_count = (genderdf.Gender == \"Male\").sum()\r\n",
    "\r\n",
    "female_count = (genderdf.Gender == \"Female\").sum()\r\n",
    "\r\n",
    "other_count = (genderdf.Gender == \"Other / Non-Disclosed\").sum()\r\n"
   ],
   "outputs": [],
   "metadata": {}
  },
  {
   "cell_type": "code",
   "execution_count": 21,
   "source": [
    "# calculate percentages\r\n",
    "\r\n",
    "male_percent = ((male_count / total_players).round(4)) * 100\r\n",
    "female_percent = ((female_count / total_players).round(4)) * 100\r\n",
    "other_percent = ((other_count / total_players).round(4)) * 100\r\n",
    "\r\n"
   ],
   "outputs": [],
   "metadata": {}
  },
  {
   "cell_type": "code",
   "execution_count": 22,
   "source": [
    "# create gender summary table\r\n",
    "\r\n",
    "gender_summary = pd.DataFrame({\r\n",
    "    \"Total Count\" : [male_count,female_count,other_count],\r\n",
    "    \"Percentage of Players\" : [male_percent,female_percent,other_percent]\r\n",
    "})\r\n",
    "\r\n",
    "gender_summary.index = ['Male','Female','Other / Non-Disclosed']\r\n",
    "\r\n",
    "gender_summary"
   ],
   "outputs": [
    {
     "output_type": "execute_result",
     "data": {
      "text/plain": [
       "                       Total Count  Percentage of Players\n",
       "Male                           484                  84.03\n",
       "Female                          81                  14.06\n",
       "Other / Non-Disclosed           11                   1.91"
      ],
      "text/html": [
       "<div>\n",
       "<style scoped>\n",
       "    .dataframe tbody tr th:only-of-type {\n",
       "        vertical-align: middle;\n",
       "    }\n",
       "\n",
       "    .dataframe tbody tr th {\n",
       "        vertical-align: top;\n",
       "    }\n",
       "\n",
       "    .dataframe thead th {\n",
       "        text-align: right;\n",
       "    }\n",
       "</style>\n",
       "<table border=\"1\" class=\"dataframe\">\n",
       "  <thead>\n",
       "    <tr style=\"text-align: right;\">\n",
       "      <th></th>\n",
       "      <th>Total Count</th>\n",
       "      <th>Percentage of Players</th>\n",
       "    </tr>\n",
       "  </thead>\n",
       "  <tbody>\n",
       "    <tr>\n",
       "      <th>Male</th>\n",
       "      <td>484</td>\n",
       "      <td>84.03</td>\n",
       "    </tr>\n",
       "    <tr>\n",
       "      <th>Female</th>\n",
       "      <td>81</td>\n",
       "      <td>14.06</td>\n",
       "    </tr>\n",
       "    <tr>\n",
       "      <th>Other / Non-Disclosed</th>\n",
       "      <td>11</td>\n",
       "      <td>1.91</td>\n",
       "    </tr>\n",
       "  </tbody>\n",
       "</table>\n",
       "</div>"
      ]
     },
     "metadata": {},
     "execution_count": 22
    }
   ],
   "metadata": {}
  },
  {
   "cell_type": "markdown",
   "source": [
    "\n",
    "## Purchasing Analysis (Gender)"
   ],
   "metadata": {}
  },
  {
   "cell_type": "markdown",
   "source": [
    "* Run basic calculations to obtain purchase count, avg. purchase price, avg. purchase total per person etc. by gender\r\n",
    "\r\n",
    "\r\n",
    "\r\n",
    "\r\n",
    "* Create a summary data frame to hold the results\r\n",
    "\r\n",
    "\r\n",
    "* Optional: give the displayed data cleaner formatting\r\n",
    "\r\n",
    "\r\n",
    "* Display the summary data frame"
   ],
   "metadata": {}
  },
  {
   "cell_type": "code",
   "execution_count": 23,
   "source": [
    "# male_PA_df = gender_PA_df.loc[gender_PA_df[\"Gender\"] == \"Male\", [\"SN\",\"Purchase ID\",\"Price\"]]\r\n",
    "# # # female_PA_df = gender_PA_df.loc[gender_PA_df[\"Gender\"] == \"Female\", [\"SN\",\"Purchase ID\",\"Price\"]\r\n",
    "# other_PA_df = gender_PA_df.loc[gender_PA_df[\"Gender\"] == \"Other / Non-Disclosed\", [\"SN\",\"Purchase ID\",\"Price\"]]\r\n",
    "\r\n",
    "# purchase count per gender\r\n",
    "# male_purchases = male_PA_df[\"Purchase ID\"].count()\r\n",
    "# female_purchases = female_PA_df[\"Purchase ID\"].count()\r\n",
    "# other_purchases = other_PA_df[\"Purchase ID\"].count()\r\n",
    "\r\n",
    "# # total purchase value per gender\r\n",
    "# male_total = male_PA_df[\"Price\"].sum()\r\n",
    "# female_total = female_PA_df[\"Price\"].sum()\r\n",
    "# other_total = other_PA_df[\"Price\"].sum()\r\n",
    "\r\n",
    "# average purchase price per gender * round this for summary table\r\n",
    "# male_avg_purchase = (male_total/male_purchases)\r\n",
    "# female_avg_purchase = (female_total/female_purchases)\r\n",
    "# other_avg_purchase = (other_total/other_purchases)\r\n",
    "\r\n",
    "# # unique purchases per gender\r\n",
    "# unique_male_purchases = male_PA_df[\"SN\"].nunique()\r\n",
    "# unique_female_purchases = female_PA_df[\"SN\"].nunique()\r\n",
    "# unique_other_purchases = other_PA_df[\"SN\"].nunique()\r\n",
    "\r\n",
    "# # average purchase per person per gender\r\n",
    "# male_avg_per_person = male_total/unique_male_purchases\r\n",
    "# female_avg_per_person = female_total/unique_female_purchases\r\n",
    "# other_avg_per_person = other_total/unique_other_purchases\r\n",
    "# print(male_avg_per_person,female_avg_per_person,other_avg_per_person)\r\n",
    "\r\n",
    "# Purchase Analysis - Gender\r\n",
    "# gender_purchases_summary = pd.DataFrame({\r\n",
    "#     \"Purchase Count\" : [male_count,female_count,other_count],\r\n",
    "#     \"Average Purchase\" : [male_avg_purchase,female_avg_purchase,other_avg_purchase],\r\n",
    "#     \"Total Purchase Value\" : [male_total,female_total,other_total],\r\n",
    "#     \"Average Total Purchase per Person\" : [male_avg_per_person,female_avg_per_person,other_avg_per_person]\r\n",
    "# })\r\n",
    "\r\n",
    "# gender_purchases_summary.index = ['Male','Female','Other / Non-Disclosed']\r\n",
    "\r\n",
    "# gender_purchases_summary"
   ],
   "outputs": [],
   "metadata": {}
  },
  {
   "cell_type": "code",
   "execution_count": 24,
   "source": [
    "# make tables for each gender\r\n",
    "\r\n",
    "gender_PA_df = purchase_data[[\"Gender\", \"Price\"]]\r\n",
    "gender_group1 = gender_PA_df.groupby([\"Gender\"])\r\n",
    "\r\n",
    "avg_per_gender = gender_group1.mean().round(2)\r\n",
    "avg_per_gender\r\n",
    "\r\n",
    "tot_purch = purchase_data[[\"Gender\",\"Price\"]]\r\n",
    "gender_group3 = tot_purch.groupby([\"Gender\"])\r\n",
    "\r\n",
    "total_gender_purch = gender_group3.sum()\r\n",
    "total_gender_purch\r\n",
    "\r\n",
    "gender_purchase = purchase_data[[\"Gender\",\"Purchase ID\"]]\r\n",
    "gender_group2 = gender_purchase.groupby([\"Gender\"])\r\n",
    "\r\n",
    "purch_per_gender = gender_group2.count()\r\n",
    "purch_per_gender\r\n",
    "\r\n"
   ],
   "outputs": [
    {
     "output_type": "execute_result",
     "data": {
      "text/plain": [
       "                       Purchase ID\n",
       "Gender                            \n",
       "Female                         113\n",
       "Male                           652\n",
       "Other / Non-Disclosed           15"
      ],
      "text/html": [
       "<div>\n",
       "<style scoped>\n",
       "    .dataframe tbody tr th:only-of-type {\n",
       "        vertical-align: middle;\n",
       "    }\n",
       "\n",
       "    .dataframe tbody tr th {\n",
       "        vertical-align: top;\n",
       "    }\n",
       "\n",
       "    .dataframe thead th {\n",
       "        text-align: right;\n",
       "    }\n",
       "</style>\n",
       "<table border=\"1\" class=\"dataframe\">\n",
       "  <thead>\n",
       "    <tr style=\"text-align: right;\">\n",
       "      <th></th>\n",
       "      <th>Purchase ID</th>\n",
       "    </tr>\n",
       "    <tr>\n",
       "      <th>Gender</th>\n",
       "      <th></th>\n",
       "    </tr>\n",
       "  </thead>\n",
       "  <tbody>\n",
       "    <tr>\n",
       "      <th>Female</th>\n",
       "      <td>113</td>\n",
       "    </tr>\n",
       "    <tr>\n",
       "      <th>Male</th>\n",
       "      <td>652</td>\n",
       "    </tr>\n",
       "    <tr>\n",
       "      <th>Other / Non-Disclosed</th>\n",
       "      <td>15</td>\n",
       "    </tr>\n",
       "  </tbody>\n",
       "</table>\n",
       "</div>"
      ]
     },
     "metadata": {},
     "execution_count": 24
    }
   ],
   "metadata": {}
  },
  {
   "cell_type": "code",
   "execution_count": 32,
   "source": [
    "unique_df = purchase_data[[\"SN\",\"Gender\"]]\r\n",
    "unique_df = unique_df.drop_duplicates([\"SN\"])\r\n",
    "unique_df = unique_df[\"Gender\"]\r\n",
    "unique_df.value_counts()\r\n",
    "male_count = unique_df.loc[unique_df == \"Male\"].count()\r\n",
    "female_count = unique_df.loc[unique_df == \"Female\"].count()\r\n",
    "other_count = unique_df.loc[unique_df == \"Other / Non-Disclosed\"].count()\r\n",
    "\r\n",
    "# averge purchase per person per gender\r\n",
    "\r\n",
    "unique_countsdf = pd.DataFrame({\r\n",
    "    \"Gender\": [\"Male\", \"Female\", \"Other / Non-Disclosed\"],\r\n",
    "    \"Unique Count\": [male_count,female_count,other_count]\r\n",
    "})\r\n",
    "\r\n",
    "# summary table \r\n",
    "\r\n",
    "sum_table = pd.merge(purch_per_gender,avg_per_gender,on=\"Gender\")\r\n",
    "\r\n",
    "sum_table2 = pd.merge(sum_table, total_gender_purch, on=\"Gender\")\r\n",
    "sum_table3 = pd.merge(sum_table2, unique_countsdf, on=\"Gender\")\r\n",
    "sum_table3[\"Avg Total Purchase per Person\"] = (sum_table3[\"Price_y\"]/sum_table3[\"Unique Count\"]).round(2)\r\n",
    "\r\n",
    "sum_table3 = sum_table3.rename(columns=({'Price_x':\"Average Purchase Price\",\"Price_y\":\"Total Purchase Value\"}))\r\n",
    "gender_summary_table = sum_table3[[\"Gender\",\"Purchase ID\",\"Average Purchase Price\",\"Total Purchase Value\",\"Avg Total Purchase per Person\"]]\r\n",
    "gender_summary_table"
   ],
   "outputs": [
    {
     "output_type": "execute_result",
     "data": {
      "text/plain": [
       "                  Gender  Purchase ID  Average Purchase Price  \\\n",
       "0                 Female          113                    3.20   \n",
       "1                   Male          652                    3.02   \n",
       "2  Other / Non-Disclosed           15                    3.35   \n",
       "\n",
       "   Total Purchase Value  Avg Total Purchase per Person  \n",
       "0                361.94                           4.47  \n",
       "1               1967.64                           4.07  \n",
       "2                 50.19                           4.56  "
      ],
      "text/html": [
       "<div>\n",
       "<style scoped>\n",
       "    .dataframe tbody tr th:only-of-type {\n",
       "        vertical-align: middle;\n",
       "    }\n",
       "\n",
       "    .dataframe tbody tr th {\n",
       "        vertical-align: top;\n",
       "    }\n",
       "\n",
       "    .dataframe thead th {\n",
       "        text-align: right;\n",
       "    }\n",
       "</style>\n",
       "<table border=\"1\" class=\"dataframe\">\n",
       "  <thead>\n",
       "    <tr style=\"text-align: right;\">\n",
       "      <th></th>\n",
       "      <th>Gender</th>\n",
       "      <th>Purchase ID</th>\n",
       "      <th>Average Purchase Price</th>\n",
       "      <th>Total Purchase Value</th>\n",
       "      <th>Avg Total Purchase per Person</th>\n",
       "    </tr>\n",
       "  </thead>\n",
       "  <tbody>\n",
       "    <tr>\n",
       "      <th>0</th>\n",
       "      <td>Female</td>\n",
       "      <td>113</td>\n",
       "      <td>3.20</td>\n",
       "      <td>361.94</td>\n",
       "      <td>4.47</td>\n",
       "    </tr>\n",
       "    <tr>\n",
       "      <th>1</th>\n",
       "      <td>Male</td>\n",
       "      <td>652</td>\n",
       "      <td>3.02</td>\n",
       "      <td>1967.64</td>\n",
       "      <td>4.07</td>\n",
       "    </tr>\n",
       "    <tr>\n",
       "      <th>2</th>\n",
       "      <td>Other / Non-Disclosed</td>\n",
       "      <td>15</td>\n",
       "      <td>3.35</td>\n",
       "      <td>50.19</td>\n",
       "      <td>4.56</td>\n",
       "    </tr>\n",
       "  </tbody>\n",
       "</table>\n",
       "</div>"
      ]
     },
     "metadata": {},
     "execution_count": 32
    }
   ],
   "metadata": {}
  },
  {
   "cell_type": "markdown",
   "source": [
    "## Age Demographics"
   ],
   "metadata": {}
  },
  {
   "cell_type": "markdown",
   "source": [
    "* Establish bins for ages\n",
    "\n",
    "\n",
    "* Categorize the existing players using the age bins. Hint: use pd.cut()\n",
    "\n",
    "\n",
    "* Calculate the numbers and percentages by age group\n",
    "\n",
    "\n",
    "* Create a summary data frame to hold the results\n",
    "\n",
    "\n",
    "* Optional: round the percentage column to two decimal points\n",
    "\n",
    "\n",
    "* Display Age Demographics Table\n"
   ],
   "metadata": {}
  },
  {
   "cell_type": "code",
   "execution_count": null,
   "source": [
    "age_df = purchase_data[[\"Age\",\"SN\"]]\r\n",
    "age_df = age_df.drop_duplicates(subset=[\"SN\"])\r\n",
    "\r\n",
    "bins = [0,9,14,19,24,29,34,39,100]\r\n",
    "\r\n",
    "age_groups = [\"<10\",\"10-14\",\"15-19\",\"20-24\",\"25-29\",\"30-34\",\"35-39\",\"40+\"]\r\n",
    "\r\n",
    "age_df[\"Age_Group\"] = pd.cut(age_df[\"Age\"], bins, labels=age_groups, include_lowest=True)\r\n",
    "age_df.head()\r\n"
   ],
   "outputs": [
    {
     "output_type": "execute_result",
     "data": {
      "text/plain": [
       "   Age             SN Age_Group\n",
       "0   20        Lisim78     20-24\n",
       "1   40    Lisovynya38       40+\n",
       "2   24     Ithergue48     20-24\n",
       "3   24  Chamassasya86     20-24\n",
       "4   23      Iskosia90     20-24"
      ],
      "text/html": [
       "<div>\n",
       "<style scoped>\n",
       "    .dataframe tbody tr th:only-of-type {\n",
       "        vertical-align: middle;\n",
       "    }\n",
       "\n",
       "    .dataframe tbody tr th {\n",
       "        vertical-align: top;\n",
       "    }\n",
       "\n",
       "    .dataframe thead th {\n",
       "        text-align: right;\n",
       "    }\n",
       "</style>\n",
       "<table border=\"1\" class=\"dataframe\">\n",
       "  <thead>\n",
       "    <tr style=\"text-align: right;\">\n",
       "      <th></th>\n",
       "      <th>Age</th>\n",
       "      <th>SN</th>\n",
       "      <th>Age_Group</th>\n",
       "    </tr>\n",
       "  </thead>\n",
       "  <tbody>\n",
       "    <tr>\n",
       "      <th>0</th>\n",
       "      <td>20</td>\n",
       "      <td>Lisim78</td>\n",
       "      <td>20-24</td>\n",
       "    </tr>\n",
       "    <tr>\n",
       "      <th>1</th>\n",
       "      <td>40</td>\n",
       "      <td>Lisovynya38</td>\n",
       "      <td>40+</td>\n",
       "    </tr>\n",
       "    <tr>\n",
       "      <th>2</th>\n",
       "      <td>24</td>\n",
       "      <td>Ithergue48</td>\n",
       "      <td>20-24</td>\n",
       "    </tr>\n",
       "    <tr>\n",
       "      <th>3</th>\n",
       "      <td>24</td>\n",
       "      <td>Chamassasya86</td>\n",
       "      <td>20-24</td>\n",
       "    </tr>\n",
       "    <tr>\n",
       "      <th>4</th>\n",
       "      <td>23</td>\n",
       "      <td>Iskosia90</td>\n",
       "      <td>20-24</td>\n",
       "    </tr>\n",
       "  </tbody>\n",
       "</table>\n",
       "</div>"
      ]
     },
     "metadata": {},
     "execution_count": 12
    }
   ],
   "metadata": {}
  },
  {
   "cell_type": "code",
   "execution_count": null,
   "source": [
    "# age group sums\r\n",
    "\r\n",
    "group1 = (age_df.Age_Group == \"<10\").sum()\r\n",
    "group2 = (age_df.Age_Group == \"10-14\").sum()\r\n",
    "group3 = (age_df.Age_Group == \"15-19\").sum()\r\n",
    "group4 = (age_df.Age_Group == \"20-24\").sum()\r\n",
    "group5 = (age_df.Age_Group == \"25-29\").sum()\r\n",
    "group6 = (age_df.Age_Group == \"30-34\").sum()\r\n",
    "group7 = (age_df.Age_Group == \"35-39\").sum()\r\n",
    "group8 = (age_df.Age_Group == \"40+\").sum()\r\n",
    "\r\n",
    "\r\n"
   ],
   "outputs": [],
   "metadata": {}
  },
  {
   "cell_type": "code",
   "execution_count": null,
   "source": [
    "# player percentages\r\n",
    "\r\n",
    "g1percent = (group1/total_players).round(4) *100\r\n",
    "g2percent = (group2/total_players).round(4) *100\r\n",
    "g3percent = (group3/total_players).round(4) *100\r\n",
    "g4percent = (group4/total_players).round(4) *100\r\n",
    "g5percent = (group5/total_players).round(4) *100\r\n",
    "g6percent = (group6/total_players).round(4) *100\r\n",
    "g7percent = (group7/total_players).round(4) *100\r\n",
    "g8percent = (group8/total_players).round(4) *100\r\n"
   ],
   "outputs": [],
   "metadata": {}
  },
  {
   "cell_type": "code",
   "execution_count": null,
   "source": [
    "# summary table\r\n",
    "\r\n",
    "age_sum_table = pd.DataFrame({\r\n",
    "    \"Total Count\" : [group1,group2,group3,group4,group5,group6,group7,group8],\r\n",
    "    \"Percentage of Players\" : [g1percent,g2percent,g3percent,g4percent,g5percent,g6percent,g7percent,g8percent]\r\n",
    "})\r\n",
    "\r\n",
    "age_sum_table.index = [\"<10\",\"10-14\",\"15-19\",\"20-24\",\"25-29\",\"30-34\",\"35-39\",\"40+\"]\r\n",
    "age_sum_table"
   ],
   "outputs": [
    {
     "output_type": "execute_result",
     "data": {
      "text/plain": [
       "       Total Count  Percentage of Players\n",
       "<10             17                   2.95\n",
       "10-14           22                   3.82\n",
       "15-19          107                  18.58\n",
       "20-24          258                  44.79\n",
       "25-29           77                  13.37\n",
       "30-34           52                   9.03\n",
       "35-39           31                   5.38\n",
       "40+             12                   2.08"
      ],
      "text/html": [
       "<div>\n",
       "<style scoped>\n",
       "    .dataframe tbody tr th:only-of-type {\n",
       "        vertical-align: middle;\n",
       "    }\n",
       "\n",
       "    .dataframe tbody tr th {\n",
       "        vertical-align: top;\n",
       "    }\n",
       "\n",
       "    .dataframe thead th {\n",
       "        text-align: right;\n",
       "    }\n",
       "</style>\n",
       "<table border=\"1\" class=\"dataframe\">\n",
       "  <thead>\n",
       "    <tr style=\"text-align: right;\">\n",
       "      <th></th>\n",
       "      <th>Total Count</th>\n",
       "      <th>Percentage of Players</th>\n",
       "    </tr>\n",
       "  </thead>\n",
       "  <tbody>\n",
       "    <tr>\n",
       "      <th>&lt;10</th>\n",
       "      <td>17</td>\n",
       "      <td>2.95</td>\n",
       "    </tr>\n",
       "    <tr>\n",
       "      <th>10-14</th>\n",
       "      <td>22</td>\n",
       "      <td>3.82</td>\n",
       "    </tr>\n",
       "    <tr>\n",
       "      <th>15-19</th>\n",
       "      <td>107</td>\n",
       "      <td>18.58</td>\n",
       "    </tr>\n",
       "    <tr>\n",
       "      <th>20-24</th>\n",
       "      <td>258</td>\n",
       "      <td>44.79</td>\n",
       "    </tr>\n",
       "    <tr>\n",
       "      <th>25-29</th>\n",
       "      <td>77</td>\n",
       "      <td>13.37</td>\n",
       "    </tr>\n",
       "    <tr>\n",
       "      <th>30-34</th>\n",
       "      <td>52</td>\n",
       "      <td>9.03</td>\n",
       "    </tr>\n",
       "    <tr>\n",
       "      <th>35-39</th>\n",
       "      <td>31</td>\n",
       "      <td>5.38</td>\n",
       "    </tr>\n",
       "    <tr>\n",
       "      <th>40+</th>\n",
       "      <td>12</td>\n",
       "      <td>2.08</td>\n",
       "    </tr>\n",
       "  </tbody>\n",
       "</table>\n",
       "</div>"
      ]
     },
     "metadata": {},
     "execution_count": 15
    }
   ],
   "metadata": {}
  },
  {
   "cell_type": "markdown",
   "source": [
    "## Purchasing Analysis (Age)"
   ],
   "metadata": {}
  },
  {
   "cell_type": "markdown",
   "source": [
    "* Bin the purchase_data data frame by age\n",
    "\n",
    "\n",
    "* Run basic calculations to obtain purchase count, avg. purchase price, avg. purchase total per person etc. in the table below\n",
    "\n",
    "\n",
    "* Create a summary data frame to hold the results\n",
    "\n",
    "\n",
    "* Optional: give the displayed data cleaner formatting\n",
    "\n",
    "\n",
    "* Display the summary data frame"
   ],
   "metadata": {}
  },
  {
   "cell_type": "code",
   "execution_count": null,
   "source": [
    "age_PA_df = purchase_data[[\"SN\",\"Gender\",\"Age\",\"Purchase ID\",\"Price\"]]\r\n",
    "age_PA_df[\"Age_Group\"] = age_df[\"Age_Group\"]"
   ],
   "outputs": [
    {
     "output_type": "stream",
     "name": "stderr",
     "text": [
      "<ipython-input-16-c5d0b19abd6b>:2: SettingWithCopyWarning: \n",
      "A value is trying to be set on a copy of a slice from a DataFrame.\n",
      "Try using .loc[row_indexer,col_indexer] = value instead\n",
      "\n",
      "See the caveats in the documentation: https://pandas.pydata.org/pandas-docs/stable/user_guide/indexing.html#returning-a-view-versus-a-copy\n",
      "  age_PA_df[\"Age_Group\"] = age_df[\"Age_Group\"]\n"
     ]
    }
   ],
   "metadata": {}
  },
  {
   "cell_type": "code",
   "execution_count": null,
   "source": [
    "# pa age group arrays\r\n",
    "\r\n",
    "g1PA = age_PA_df.loc[age_PA_df[\"Age_Group\"] == group1]\r\n",
    "g2PA = age_PA_df.loc[age_PA_df[\"Age_Group\"] == group2]\r\n",
    "g3PA = age_PA_df.loc[age_PA_df[\"Age_Group\"] == group3]\r\n",
    "g4PA = age_PA_df.loc[age_PA_df[\"Age_Group\"] == group4]\r\n",
    "g5PA = age_PA_df.loc[age_PA_df[\"Age_Group\"] == group5]\r\n",
    "g6PA = age_PA_df.loc[age_PA_df[\"Age_Group\"] == group6]\r\n",
    "g7PA = age_PA_df.loc[age_PA_df[\"Age_Group\"] == group7]\r\n",
    "g8PA = age_PA_df.loc[age_PA_df[\"Age_Group\"] == group8]\r\n",
    "\r\n"
   ],
   "outputs": [],
   "metadata": {}
  },
  {
   "cell_type": "code",
   "execution_count": null,
   "source": [
    "# purchase analysis formulas\r\n",
    "g1count = g1PA[\"Purchase ID\"].count()\r\n",
    "g2count = g2PA[\"Purchase ID\"].count()\r\n",
    "g3count = g3PA[\"Purchase ID\"].count()\r\n",
    "g4count = g4PA[\"Purchase ID\"].count()\r\n",
    "g5count = g5PA[\"Purchase ID\"].count()\r\n",
    "g6count = g6PA[\"Purchase ID\"].count()\r\n",
    "g7count = g7PA[\"Purchase ID\"].count()\r\n",
    "g8count = g8PA[\"Purchase ID\"].count()\r\n",
    "\r\n",
    "g1total = g1PA[\"Price\"].sum()\r\n",
    "g2total = g2PA[\"Price\"].sum()\r\n",
    "g3total = g3PA[\"Price\"].sum()\r\n",
    "g4total = g4PA[\"Price\"].sum()\r\n",
    "g5total = g5PA[\"Price\"].sum()\r\n",
    "g6total = g6PA[\"Price\"].sum()\r\n",
    "g7total = g7PA[\"Price\"].sum()\r\n",
    "g8total = g8PA[\"Price\"].sum()\r\n",
    "\r\n",
    "\r\n"
   ],
   "outputs": [],
   "metadata": {}
  },
  {
   "cell_type": "markdown",
   "source": [
    "## Top Spenders"
   ],
   "metadata": {}
  },
  {
   "cell_type": "markdown",
   "source": [
    "* Run basic calculations to obtain the results in the table below\n",
    "\n",
    "\n",
    "* Create a summary data frame to hold the results\n",
    "\n",
    "\n",
    "* Sort the total purchase value column in descending order\n",
    "\n",
    "\n",
    "* Optional: give the displayed data cleaner formatting\n",
    "\n",
    "\n",
    "* Display a preview of the summary data frame\n",
    "\n"
   ],
   "metadata": {}
  },
  {
   "cell_type": "code",
   "execution_count": null,
   "source": [],
   "outputs": [],
   "metadata": {}
  },
  {
   "cell_type": "markdown",
   "source": [
    "## Most Popular Items"
   ],
   "metadata": {}
  },
  {
   "cell_type": "markdown",
   "source": [
    "* Retrieve the Item ID, Item Name, and Item Price columns\r\n",
    "\r\n",
    "\r\n",
    "* Group by Item ID and Item Name. Perform calculations to obtain purchase count, average item price, and total purchase value\r\n",
    "\r\n",
    "\r\n",
    "* Create a summary data frame to hold the results\r\n",
    "\r\n",
    "\r\n",
    "* Sort the purchase count column in descending order\r\n",
    "\r\n",
    "\r\n",
    "* Optional: give the displayed data cleaner formatting\r\n",
    "\r\n",
    "\r\n",
    "* Display a preview of the summary data frame\r\n",
    "\r\n"
   ],
   "metadata": {}
  },
  {
   "cell_type": "code",
   "execution_count": null,
   "source": [],
   "outputs": [],
   "metadata": {}
  },
  {
   "cell_type": "markdown",
   "source": [
    "## Most Profitable Items"
   ],
   "metadata": {}
  },
  {
   "cell_type": "markdown",
   "source": [
    "* Sort the above table by total purchase value in descending order\n",
    "\n",
    "\n",
    "* Optional: give the displayed data cleaner formatting\n",
    "\n",
    "\n",
    "* Display a preview of the data frame\n",
    "\n"
   ],
   "metadata": {}
  },
  {
   "cell_type": "code",
   "execution_count": null,
   "source": [],
   "outputs": [],
   "metadata": {
    "scrolled": true
   }
  }
 ],
 "metadata": {
  "anaconda-cloud": {},
  "kernel_info": {
   "name": "python3"
  },
  "kernelspec": {
   "name": "python3",
   "display_name": "Python 3.8.8 64-bit ('base': conda)"
  },
  "language_info": {
   "codemirror_mode": {
    "name": "ipython",
    "version": 3
   },
   "file_extension": ".py",
   "mimetype": "text/x-python",
   "name": "python",
   "nbconvert_exporter": "python",
   "pygments_lexer": "ipython3",
   "version": "3.8.8"
  },
  "latex_envs": {
   "LaTeX_envs_menu_present": true,
   "autoclose": false,
   "autocomplete": true,
   "bibliofile": "biblio.bib",
   "cite_by": "apalike",
   "current_citInitial": 1,
   "eqLabelWithNumbers": true,
   "eqNumInitial": 1,
   "hotkeys": {
    "equation": "Ctrl-E",
    "itemize": "Ctrl-I"
   },
   "labels_anchors": false,
   "latex_user_defs": false,
   "report_style_numbering": false,
   "user_envs_cfg": false
  },
  "nteract": {
   "version": "0.2.0"
  },
  "interpreter": {
   "hash": "696a868d263820d96c3e015462b3285736058cba07fad26566882fe661452fde"
  }
 },
 "nbformat": 4,
 "nbformat_minor": 2
}